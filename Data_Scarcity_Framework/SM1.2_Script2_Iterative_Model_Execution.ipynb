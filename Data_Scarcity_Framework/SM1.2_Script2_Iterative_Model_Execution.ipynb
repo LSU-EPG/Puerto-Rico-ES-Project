{
 "cells": [
  {
   "cell_type": "markdown",
   "id": "20f36434-dbfe-444a-b9f6-8209745e3d0b",
   "metadata": {},
   "source": [
    "## **InVEST NDR Iterative Model Execution**\n",
    "\n",
    "publication: \"Addressing spatial and temporal data scarcity in water quality monitoring using machine learning for long-term ecosystem service calibration and validation\"\n",
    "\n",
    "author: \"Valladares-Castellanos M, De Jesus Crespo R, Douthat T\"\n",
    "\n",
    "\n",
    "github: https://github.com/LSU-EPG/Puerto-Rico-ES-Project/tree/main/Data_Scarcity_Framework"
   ]
  },
  {
   "cell_type": "markdown",
   "id": "c4e51d2d-a748-4343-bdbb-b767c1933209",
   "metadata": {},
   "source": [
    "**Summary**: This notebook outlines the procedure for performing batch calibration of the InVEST (Integrated Valuation of Ecosystem Services and Tradeoffs) Nutrient Delivery Ratio model (Section XX). The core of the notebook applies a looped calibration function to optimize the threshold flow accumulation and Borselli K parameters for different land use/land cover (LULC) maps between 1951 and 2000. Calibration is conducted separately for both types of reference watershed clusters."
   ]
  },
  {
   "cell_type": "markdown",
   "id": "a62cc147-ad15-40f7-9139-f3feed015c61",
   "metadata": {},
   "source": [
    "#### 1. Install the packages"
   ]
  },
  {
   "cell_type": "markdown",
   "id": "254a4f18-a237-46bc-af9f-1bd769e0eb3a",
   "metadata": {},
   "source": [
    "Refer to the following Natural Capital Project link for information about installing natcap.invest packages, dependencies, and batch prcessing:\n",
    "https://invest.readthedocs.io/en/latest/scripting.html"
   ]
  },
  {
   "cell_type": "code",
   "execution_count": null,
   "id": "b21ce1d9-4723-4fbb-a8a5-09093ffacfaf",
   "metadata": {},
   "outputs": [],
   "source": [
    "import logging\n",
    "import sys\n",
    "import natcap.invest.ndr.ndr\n",
    "import natcap.invest.utils"
   ]
  },
  {
   "cell_type": "markdown",
   "id": "ab341982-29e7-4f96-bbcb-94c394ecd474",
   "metadata": {},
   "source": [
    "#### 2. Iterative InVEST NDR Batch model execution"
   ]
  },
  {
   "cell_type": "code",
   "execution_count": null,
   "id": "dc719c89-bcaf-4b12-8b7a-322d5c1e9252",
   "metadata": {},
   "outputs": [],
   "source": [
    "## set up the parameters \n",
    "LOGGER = logging.getLogger(__name__)\n",
    "root_logger = logging.getLogger()\n",
    "\n",
    "handler = logging.StreamHandler(sys.stdout)\n",
    "formatter = logging.Formatter(\n",
    "    fmt=natcap.invest.utils.LOG_FMT,\n",
    "    datefmt='%m/%d/%Y %H:%M:%S ')\n",
    "handler.setFormatter(formatter)\n",
    "logging.basicConfig(level=logging.INFO, handlers=[handler])\n",
    "\n",
    "# Set the parameters folder location\n",
    "args = {\n",
    "    'biophysical_table_path': 'path/biophysical_table.csv',\n",
    "    'calc_n': True,  #If interested in estimating nitrogen\n",
    "    'calc_p': True,  #If interested in estimating phosphorus\n",
    "    'dem_path': 'path/DEM.tif',\n",
    "    'subsurface_critical_length_n': 'value',\n",
    "    'subsurface_eff_n': 'value',\n",
    "    'workspace_dir':'workspace_directory_path',\n",
    "}\n",
    "\n",
    "# Set the values for the TFA, Borselli K calibration parameters and the timeframe of interest based on the LULC maps and reference \n",
    "# watershed clusters\n",
    "years = [1951, 1977, 1991, 2000]\n",
    "kb_cal = [0.50, 1.0, 1.50,2.0, 2.5, 3.0, 3.5, 4.0]\n",
    "tfa_cal = [10, 50,100,150,200,250, 300,350,400,450,500,600,700,800,900,1000]\n",
    "watershed_cluster = [1,2]\n",
    "\n",
    "# Loops through the values \n",
    "for tfa in tfa_cal:\n",
    "    args['threshold_flow_accumulation'] = tfa\n",
    "    for kb in kb_cal:\n",
    "        args['k_param'] = kb\n",
    "        for year in years:\n",
    "            lulc = 'path/LULC_' + str(year) + '.tif'\n",
    "            runoff = 'path/Q_mm_' + str(year) + '_' + '.tif'\n",
    "            args['lulc_path'] = lulc\n",
    "            args['runoff_proxy_path'] = runoff\n",
    "            for cluster in watershed_cluster:\n",
    "                ref_watershed = 'path/Ref_WA_Cluster' + str(cluster) + '.shp' #reference watersheds shapefile\n",
    "                args['watersheds_path'] = ref_watershed\n",
    "                args['results_suffix'] = 'year' + str(year) + '_' + 'cluster' + str(cluster) + '_' + 'TFA' + str(tfa) + '_' + 'kb' + str(kb)\n",
    "                if __name__ == '__main__':\n",
    "                    natcap.invest.ndr.ndr.execute(args)"
   ]
  },
  {
   "cell_type": "markdown",
   "id": "cac74e91-497c-4461-800d-d835228418e4",
   "metadata": {},
   "source": [
    "#### 3. References:"
   ]
  },
  {
   "cell_type": "markdown",
   "id": "d96a141e-9f44-4a1d-a229-be405ead28ce",
   "metadata": {},
   "source": [
    "Campanhão, L. M. B., & Ranieri, V. E. L. (2023). Influence of forest proportion and configuration at the watershed and riparian zone scales on sediment yield: a simulation experiment. Landscape Ecology, 38(11), 2839-2860. https://doi.org/10.1007/s10980-023-01751-6\n",
    "\n",
    "Natural Capital Project. (2023). InVEST 3.14.0. In Stanford University, University of Minnesota, Chinese Academy of Sciences, The Nature Conservancy, World Wildlife Fund, Stockholm Resilience Centre and the Royal Swedish Academy of Sciences. https://naturalcapitalproject.stanford.edu/software/invest\n",
    "\n",
    "Valladares-Castellanos, M., de Jesús Crespo, R., Xu, Y. J., & Douthat, T. H. (2024). A framework for validating watershed ecosystem service models in the United States using long-term water quality data: Applications with the InVEST Nutrient Delivery (NDR) model in Puerto Rico. Science of the Total Environment, 949, 175111. https://doi.org/https://doi.org/10.1016/j.scitotenv.2024.175111 "
   ]
  },
  {
   "cell_type": "code",
   "execution_count": null,
   "id": "990994c6-76b8-49fc-94d4-12e0e8a99964",
   "metadata": {},
   "outputs": [],
   "source": []
  }
 ],
 "metadata": {
  "kernelspec": {
   "display_name": "Python 3 (ipykernel)",
   "language": "python",
   "name": "python3"
  },
  "language_info": {
   "codemirror_mode": {
    "name": "ipython",
    "version": 3
   },
   "file_extension": ".py",
   "mimetype": "text/x-python",
   "name": "python",
   "nbconvert_exporter": "python",
   "pygments_lexer": "ipython3",
   "version": "3.12.3"
  }
 },
 "nbformat": 4,
 "nbformat_minor": 5
}
