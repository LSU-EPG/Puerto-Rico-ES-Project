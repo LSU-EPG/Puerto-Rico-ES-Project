{
 "cells": [
  {
   "cell_type": "markdown",
   "id": "20f36434-dbfe-444a-b9f6-8209745e3d0b",
   "metadata": {},
   "source": [
    "## **Transfering ES model validated parameters to data-scarce watersheds**\n",
    "\n",
    "publication: \"Using machine learning for long-term calibration and validation of water quality ecosystem service models in data-scarce regions\"\n",
    "\n",
    "author: \"Valladares-Castellanos M, de Jesús Crespo R, Douthat T\"\n",
    "\n",
    "\n",
    "github: https://github.com/LSU-EPG/Puerto-Rico-ES-Project/tree/main/Data_Scarcity_Framework"
   ]
  },
  {
   "cell_type": "markdown",
   "id": "c4e51d2d-a748-4343-bdbb-b767c1933209",
   "metadata": {},
   "source": [
    "**Summary**: The following notebook describes the last step of the methodological framework to transfered the calibrated and validated parameters to non-reference watershed to quantify and map ES for the entire study area. In the notebook we used as an example the suitable values found for the case study watersheds: cluster 1 TFA200 and Kb 0.5, and cluster 2 TFA 50 and Kb 4.0."
   ]
  },
  {
   "cell_type": "markdown",
   "id": "0ef4f776-9eb3-40c1-bec5-6a46c95c15c4",
   "metadata": {},
   "source": [
    "####  1. Install the Packages"
   ]
  },
  {
   "cell_type": "code",
   "execution_count": null,
   "id": "b7cd7e2b-d7aa-4907-8889-78cb064a0eec",
   "metadata": {},
   "outputs": [],
   "source": [
    "## The necessary packages \n",
    "import logging\n",
    "import sys\n",
    "import natcap.invest.ndr.ndr\n",
    "import natcap.invest.utils\n",
    "import pandas"
   ]
  },
  {
   "cell_type": "markdown",
   "id": "79addd57-b5cb-4314-b16b-cf62723eaba7",
   "metadata": {},
   "source": [
    "#### 2. Start ES Model Batch Prediction"
   ]
  },
  {
   "cell_type": "markdown",
   "id": "0e8a88c3-cf34-4a2b-ae3d-5dc0a9e01d3e",
   "metadata": {},
   "source": [
    "##### 2.1 Load the validated parameters from a CSV table"
   ]
  },
  {
   "cell_type": "code",
   "execution_count": null,
   "id": "dd3957c6-efc4-4cea-bcf0-06ef092ba545",
   "metadata": {},
   "outputs": [],
   "source": [
    "param_table_path = 'path/Param_BestTFA_Kb.csv' \n",
    "param_df = pd.read_csv(param_table_path)\n",
    "print(param_df)"
   ]
  },
  {
   "cell_type": "markdown",
   "id": "a3a7e894-c53b-4e5a-b5d0-4362e1f460ac",
   "metadata": {},
   "source": [
    "##### 2.2 Apply batch model prediction"
   ]
  },
  {
   "cell_type": "code",
   "execution_count": null,
   "id": "5675fbde-ea87-465b-8500-c1ce0ffa6321",
   "metadata": {
    "scrolled": true
   },
   "outputs": [],
   "source": [
    "## set up the parameters \n",
    "LOGGER = logging.getLogger(__name__)\n",
    "root_logger = logging.getLogger()\n",
    "\n",
    "handler = logging.StreamHandler(sys.stdout)\n",
    "formatter = logging.Formatter(\n",
    "    fmt=natcap.invest.utils.LOG_FMT,\n",
    "    datefmt='%m/%d/%Y %H:%M:%S ')\n",
    "handler.setFormatter(formatter)\n",
    "logging.basicConfig(level=logging.INFO, handlers=[handler])\n",
    "\n",
    "# Set the parameters folder location\n",
    "args = {\n",
    "    'biophysical_table_path': 'path/biophysical_table.csv',\n",
    "    'calc_n': True,  \n",
    "    'calc_p': True,\n",
    "    'dem_path': 'path/DEM.tif',\n",
    "    'subsurface_critical_length_n': 'value',\n",
    "    'subsurface_eff_n': 'value',\n",
    "    'workspace_dir':'workspace_directory_path',\n",
    "}\n",
    "\n",
    "# # Loops through the values \n",
    "for year in param_df['year'].unique():\n",
    "    for cluster in param_df['watershed_cluster'].unique():\n",
    "        # Filter the table for the specific year and cluster combination\n",
    "        filtered_params = param_df[(param_df['year'] == year) & (param_df['watershed_cluster'] == cluster)]\n",
    "\n",
    "        if not filtered_params.empty:\n",
    "            # Assuming the table has one row for each year and cluster combination\n",
    "            tfa = filtered_params['TFA'].values[0]  # Get the TFA value\n",
    "            kb = filtered_params['Kb'].values[0]  # Get the Kb value\n",
    "\n",
    "            # Set the TFA and Kb parameters\n",
    "            args['threshold_flow_accumulation'] = tfa\n",
    "            args['k_param'] = kb\n",
    "\n",
    "            # Set the paths for LULC and runoff proxy based on the year\n",
    "            lulc = f'path/LULC_{year}.tif'\n",
    "            runoff = f'path/Q_mm_{year}_.tif'\n",
    "            args['lulc_path'] = lulc\n",
    "            args['runoff_proxy_path'] = runoff\n",
    "\n",
    "            # Set the HUC12 watershed path based on the cluster\n",
    "            study_area_watershed = f'path/Watershed_Cluster{cluster}.shp'\n",
    "            args['watersheds_path'] = study_area_watershed\n",
    "\n",
    "            # Define a suffix for the results to include year, cluster, TFA, and Kb values\n",
    "            args['results_suffix'] = f'Nut_year{year}_cluster{cluster}_TFA{tfa}_kb{kb}'\n",
    "\n",
    "            # Run the model\n",
    "            if __name__ == '__main__':\n",
    "                natcap.invest.ndr.ndr.execute(args)\n",
    "        else:\n",
    "            print(f\"Warning: No calibration parameters found for year {year}, cluster {cluster}. Skipping.\")"
   ]
  },
  {
   "cell_type": "markdown",
   "id": "eb93a6f9-3a80-4aca-8c95-bed23ec209bc",
   "metadata": {},
   "source": [
    "#### 3. References:"
   ]
  },
  {
   "cell_type": "markdown",
   "id": "704fcf39-3879-4ca5-8507-d79846ab2c82",
   "metadata": {},
   "source": [
    "Campanhão, L. M. B., & Ranieri, V. E. L. (2023). Influence of forest proportion and configuration at the watershed and riparian zone scales on sediment yield: a simulation experiment. Landscape Ecology, 38(11), 2839-2860. https://doi.org/10.1007/s10980-023-01751-6\n",
    "\n",
    "Natural Capital Project. (2023). InVEST 3.14.0. In Stanford University, University of Minnesota, Chinese Academy of Sciences, The Nature Conservancy, World Wildlife Fund, Stockholm Resilience Centre and the Royal Swedish Academy of Sciences. https://naturalcapitalproject.stanford.edu/software/invest\n",
    "\n",
    "Valladares-Castellanos, M., de Jesús Crespo, R., Xu, Y. J., & Douthat, T. H. (2024). A framework for validating watershed ecosystem service models in the United States using long-term water quality data: Applications with the InVEST Nutrient Delivery (NDR) model in Puerto Rico. Science of the Total Environment, 949, 175111. https://doi.org/https://doi.org/10.1016/j.scitotenv.2024.175111 "
   ]
  },
  {
   "cell_type": "code",
   "execution_count": null,
   "id": "2d18eca2-3298-4dac-a88b-fe8f806d7c02",
   "metadata": {},
   "outputs": [],
   "source": []
  }
 ],
 "metadata": {
  "kernelspec": {
   "display_name": "Python 3 (ipykernel)",
   "language": "python",
   "name": "python3"
  },
  "language_info": {
   "codemirror_mode": {
    "name": "ipython",
    "version": 3
   },
   "file_extension": ".py",
   "mimetype": "text/x-python",
   "name": "python",
   "nbconvert_exporter": "python",
   "pygments_lexer": "ipython3",
   "version": "3.12.3"
  }
 },
 "nbformat": 4,
 "nbformat_minor": 5
}
